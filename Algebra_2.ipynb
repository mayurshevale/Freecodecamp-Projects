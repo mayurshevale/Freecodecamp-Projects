{
  "nbformat": 4,
  "nbformat_minor": 0,
  "metadata": {
    "colab": {
      "provenance": [],
      "authorship_tag": "ABX9TyPK0zzARR4v+sKLGyyRAin7",
      "include_colab_link": true
    },
    "kernelspec": {
      "name": "python3",
      "display_name": "Python 3"
    },
    "language_info": {
      "name": "python"
    }
  },
  "cells": [
    {
      "cell_type": "markdown",
      "metadata": {
        "id": "view-in-github",
        "colab_type": "text"
      },
      "source": [
        "<a href=\"https://colab.research.google.com/github/mayurshevale/Freecodecamp-Projects/blob/main/Algebra_2.ipynb\" target=\"_parent\"><img src=\"https://colab.research.google.com/assets/colab-badge.svg\" alt=\"Open In Colab\"/></a>"
      ]
    },
    {
      "cell_type": "code",
      "execution_count": 10,
      "metadata": {
        "id": "ftJeo-UWzO7V",
        "outputId": "de84c9de-c0f2-4707-c2d8-16b25188b52b",
        "colab": {
          "base_uri": "https://localhost:8080/"
        }
      },
      "outputs": [
        {
          "output_type": "stream",
          "name": "stdout",
          "text": [
            "[4]\n"
          ]
        }
      ],
      "source": [
        "from sympy import symbols, Eq, solve\n",
        "\n",
        "x = symbols('x')\n",
        "example = 3*x - 12\n",
        "equation = Eq(example, 0)\n",
        "solution = solve(equation, x)\n",
        "print(solution)\n",
        "\n",
        "\n"
      ]
    },
    {
      "cell_type": "code",
      "source": [
        "print(10**1)\n",
        "print(10**2)\n",
        "print(10**3)\n",
        "print(10**0)\n",
        "print(10**-1)\n",
        "print(10**-2)\n",
        "print(10**-3)\n",
        "\n"
      ],
      "metadata": {
        "id": "TjGv-n6YAWZX",
        "outputId": "4e62cecd-6606-4011-c3cf-457e18a70b08",
        "colab": {
          "base_uri": "https://localhost:8080/"
        }
      },
      "execution_count": 11,
      "outputs": [
        {
          "output_type": "stream",
          "name": "stdout",
          "text": [
            "10\n",
            "100\n",
            "1000\n",
            "1\n",
            "0.1\n",
            "0.01\n",
            "0.001\n"
          ]
        }
      ]
    },
    {
      "cell_type": "code",
      "source": [],
      "metadata": {
        "id": "I8ASuTRFKJN6"
      },
      "execution_count": null,
      "outputs": []
    }
  ]
}