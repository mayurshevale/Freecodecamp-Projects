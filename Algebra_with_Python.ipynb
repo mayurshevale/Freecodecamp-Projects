{
  "nbformat": 4,
  "nbformat_minor": 0,
  "metadata": {
    "colab": {
      "provenance": [],
      "authorship_tag": "ABX9TyPnXKrcsSXF8BJSmAnIwrse",
      "include_colab_link": true
    },
    "kernelspec": {
      "name": "python3",
      "display_name": "Python 3"
    },
    "language_info": {
      "name": "python"
    }
  },
  "cells": [
    {
      "cell_type": "markdown",
      "metadata": {
        "id": "view-in-github",
        "colab_type": "text"
      },
      "source": [
        "<a href=\"https://colab.research.google.com/github/mayurshevale/Freecodecamp-Projects/blob/main/Algebra_2.ipynb\" target=\"_parent\"><img src=\"https://colab.research.google.com/assets/colab-badge.svg\" alt=\"Open In Colab\"/></a>"
      ]
    },
    {
      "cell_type": "markdown",
      "source": [
        "## **Finding x in equation**\n",
        "\n",
        "\n",
        "\n",
        "\n"
      ],
      "metadata": {
        "id": "ygjdEEsfLqdd"
      }
    },
    {
      "cell_type": "code",
      "execution_count": 10,
      "metadata": {
        "colab": {
          "base_uri": "https://localhost:8080/"
        },
        "id": "ftJeo-UWzO7V",
        "outputId": "de84c9de-c0f2-4707-c2d8-16b25188b52b"
      },
      "outputs": [
        {
          "output_type": "stream",
          "name": "stdout",
          "text": [
            "[4]\n"
          ]
        }
      ],
      "source": [
        "from sympy import symbols, Eq, solve\n",
        "\n",
        "x = symbols('x')\n",
        "example = 3*x - 12\n",
        "equation = Eq(example, 0)\n",
        "solution = solve(equation, x)\n",
        "print(solution)\n",
        "\n",
        "\n"
      ]
    },
    {
      "cell_type": "markdown",
      "source": [
        "## **Positve and Negative Exponents** "
      ],
      "metadata": {
        "id": "vPCpsnreL3Xh"
      }
    },
    {
      "cell_type": "code",
      "source": [
        "print(10**1)\n",
        "print(10**2)\n",
        "print(10**3)\n",
        "print(10**0)\n",
        "print(10**-1)\n",
        "print(10**-2)\n",
        "print(10**-3)\n",
        "\n"
      ],
      "metadata": {
        "colab": {
          "base_uri": "https://localhost:8080/"
        },
        "id": "TjGv-n6YAWZX",
        "outputId": "4e62cecd-6606-4011-c3cf-457e18a70b08"
      },
      "execution_count": 11,
      "outputs": [
        {
          "output_type": "stream",
          "name": "stdout",
          "text": [
            "10\n",
            "100\n",
            "1000\n",
            "1\n",
            "0.1\n",
            "0.01\n",
            "0.001\n"
          ]
        }
      ]
    },
    {
      "cell_type": "markdown",
      "source": [
        "## **User Input comes in as a string. You can find the length of the string**"
      ],
      "metadata": {
        "id": "eeTxVoKoNCas"
      }
    },
    {
      "cell_type": "code",
      "source": [
        "text = input(\"Enter a Number\")\n",
        "print(text) \n",
        "print(len(text))"
      ],
      "metadata": {
        "colab": {
          "base_uri": "https://localhost:8080/"
        },
        "id": "I8ASuTRFKJN6",
        "outputId": "d1ccc8d9-883d-4948-ab19-0ce1dc6e6111"
      },
      "execution_count": 14,
      "outputs": [
        {
          "output_type": "stream",
          "name": "stdout",
          "text": [
            "Enter a Number.234\n",
            ".234\n",
            "4\n"
          ]
        }
      ]
    },
    {
      "cell_type": "markdown",
      "source": [
        "## **Cast Input as a float or Integer**"
      ],
      "metadata": {
        "id": "q3BBmfOMNBLO"
      }
    },
    {
      "cell_type": "code",
      "source": [
        "text = input(\"Enter a Number\")\n",
        "num = float(text)\n",
        "print(num + 4)"
      ],
      "metadata": {
        "colab": {
          "base_uri": "https://localhost:8080/"
        },
        "id": "auXZvBYEM-Mm",
        "outputId": "7f16e0a7-53fb-4f3a-b044-a396d2d2ada5"
      },
      "execution_count": 15,
      "outputs": [
        {
          "output_type": "stream",
          "name": "stdout",
          "text": [
            "Enter a Number.123\n",
            "4.123\n"
          ]
        }
      ]
    },
    {
      "cell_type": "markdown",
      "source": [
        "## **Now put it all together**"
      ],
      "metadata": {
        "id": "zsWVUVEwTN8m"
      }
    },
    {
      "cell_type": "code",
      "source": [
        "# Get a string input, which will include a decimal point\n",
        "digits = input(\"Enter a decimal number to convert: \")\n",
        "\n",
        "# Get a number of decimal places as an integer\n",
        "exponent = int(len(digits)) - 1\n",
        "print(exponent)\n",
        "\n",
        "# Convert the input into float number\n",
        "n = float(digits)\n",
        "\n",
        "# Use the exponent to get the numerator\n",
        "numerator = int(n * 10**exponent)\n",
        "\n",
        "# Use the exponent to get the denominator\n",
        "denominator = 10**exponent\n",
        "\n",
        "# Percent is the first two decimal places\n",
        "percent = n * 100\n",
        "\n",
        "# Output\n",
        "print(\"The decimal is \",n)\n",
        "print(\"The fraction is \",numerator,\"/\",denominator)\n",
        "print(\"The percent is \",percent,\"%\")\n"
      ],
      "metadata": {
        "colab": {
          "base_uri": "https://localhost:8080/"
        },
        "id": "wMetHBgCN9Ch",
        "outputId": "df5a8c21-2857-4727-9a8d-4df5798d3545"
      },
      "execution_count": 25,
      "outputs": [
        {
          "output_type": "stream",
          "name": "stdout",
          "text": [
            "Enter a decimal number to convert: .123\n",
            "3\n",
            "The decimal is  0.123\n",
            "The fraction is  123 / 1000\n",
            "The percent is  12.3 %\n"
          ]
        }
      ]
    },
    {
      "cell_type": "code",
      "source": [],
      "metadata": {
        "id": "o7CXalgzT0jc"
      },
      "execution_count": null,
      "outputs": []
    }
  ]
}
